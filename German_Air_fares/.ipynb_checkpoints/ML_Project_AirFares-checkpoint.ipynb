{
 "cells": [
  {
   "cell_type": "markdown",
   "id": "6213315d",
   "metadata": {},
   "source": [
    "## Project- AirFares\n",
    "--- -------------------"
   ]
  },
  {
   "cell_type": "markdown",
   "id": "a47f430e",
   "metadata": {},
   "source": [
    "### Introduction\n",
    "--- -------------------"
   ]
  },
  {
   "cell_type": "markdown",
   "id": "bd59c183",
   "metadata": {},
   "source": [
    "This project studies the german domestic airfares during the period 25-10-2019 to 24-04-2020 between major airports in Germany. The aim of the project is to apply the techniques of machine learning on the dataset and understand the trends in pricing with respect to the various features such the booking date, departure & arrival cities, departure time etc. \n",
    "#### Details of dataset:\n",
    "-- -------------------\n",
    "1. Source: [https://www.kaggle.com/datasets/darjand/domestic-german-air-fares](https://www.kaggle.com/datasets/darjand/domestic-german-air-fares)\n",
    "2. Generation mode: web scraping\n",
    "3. Time period considered: 25-10-2019 to 24-04-2020 (6 months).\n",
    "4. Total entries: 63,000\n",
    "5. Features:\n",
    "    * departure_city: The city from which the flight departs.\n",
    "    * arrival_city: The city to which the flight arrives.\n",
    "    * scrape_date: The date when flight price information was retrieved.\n",
    "    * departure_date: The departure date of the flight (25-10-2019 to 24-04-2020).\n",
    "    * departure_date_distance: How far in advance (e.g., \"1 week\") the flight was booked.\n",
    "    * departure_time: The departure time of the flight.\n",
    "    * arrival_time: The arrival time of the flight.\n",
    "    * airline: The airline that operates the flight.\n",
    "    * stops: The number of layovers or stops during the flight.\n",
    "    * price (€): The price of the flight ticket in Euros."
   ]
  },
  {
   "cell_type": "markdown",
   "id": "3687c055",
   "metadata": {},
   "source": [
    "#### Imports:\n",
    "-- ----------"
   ]
  },
  {
   "cell_type": "code",
   "execution_count": 127,
   "id": "02f2a1a1",
   "metadata": {},
   "outputs": [],
   "source": [
    "#imports\n",
    "import numpy as np\n",
    "import pandas as pd\n",
    "import sklearn.model_selection as ms\n",
    "import sklearn.feature_extraction.text as text\n",
    "import sklearn.naive_bayes as nb\n",
    "import matplotlib.pyplot as plt\n",
    "from sklearn.preprocessing import LabelEncoder\n",
    "from sklearn.feature_extraction.text import TfidfVectorizer\n",
    "from sklearn.feature_extraction import text\n",
    "from sklearn.metrics import ConfusionMatrixDisplay, accuracy_score\n",
    "\n",
    "pd.set_option('display.max_colwidth', 50)"
   ]
  },
  {
   "cell_type": "markdown",
   "id": "83811552",
   "metadata": {},
   "source": [
    "#### Load the dataset:\n",
    "-- ------------------"
   ]
  },
  {
   "cell_type": "code",
   "execution_count": 128,
   "id": "d55c3793",
   "metadata": {},
   "outputs": [],
   "source": [
    "#Load the data set\n",
    "df = pd.read_csv('./data/German Air Fares.csv');"
   ]
  },
  {
   "cell_type": "markdown",
   "id": "99a79fe1",
   "metadata": {},
   "source": [
    "#### Data Understanding:\n",
    "-- ----------------------"
   ]
  },
  {
   "cell_type": "markdown",
   "id": "584f99c2",
   "metadata": {},
   "source": [
    "##### Basic statistics:\n",
    "-- ----------------------"
   ]
  },
  {
   "cell_type": "code",
   "execution_count": 129,
   "id": "4671a6c7",
   "metadata": {},
   "outputs": [
    {
     "name": "stdout",
     "output_type": "stream",
     "text": [
      "<class 'pandas.core.frame.DataFrame'>\n",
      "RangeIndex: 62626 entries, 0 to 62625\n",
      "Data columns (total 10 columns):\n",
      " #   Column                   Non-Null Count  Dtype \n",
      "---  ------                   --------------  ----- \n",
      " 0   departure_city           62626 non-null  object\n",
      " 1   arrival_city             62626 non-null  object\n",
      " 2   scrape_date              62626 non-null  object\n",
      " 3   departure_date           62626 non-null  object\n",
      " 4   departure_date_distance  62626 non-null  object\n",
      " 5   departure_time           62626 non-null  object\n",
      " 6   arrival_time             62626 non-null  object\n",
      " 7   airline                  62626 non-null  object\n",
      " 8   stops                    62626 non-null  object\n",
      " 9   price (€)                62626 non-null  object\n",
      "dtypes: object(10)\n",
      "memory usage: 4.8+ MB\n"
     ]
    }
   ],
   "source": [
    "#Basic statistics\n",
    "df.shape;                                           #--> (62626, 10)\n",
    "df.info();df.isna().sum();                          #--> (No null objects)"
   ]
  },
  {
   "cell_type": "markdown",
   "id": "4af76e93",
   "metadata": {},
   "source": [
    "##### Rename columns\n",
    "-- ----------------------"
   ]
  },
  {
   "cell_type": "code",
   "execution_count": 130,
   "id": "13b360b5",
   "metadata": {},
   "outputs": [],
   "source": [
    "#-----------------------------------------------------------------------------------\n",
    "df = df.rename(columns={'price (€)': 'price'});                              #--> Rename 'price (€)' to 'price'\n",
    "df.departure_city.unique();df.arrival_city.unique();\n",
    "# df['departure_city'] = df['departure_city'].astype(str).str.split().str[1]  #--> Rename departure city\n",
    "# df['arrival_city'] = df['arrival_city'].astype(str).str.split().str[1]      #--> Rename arrival city"
   ]
  },
  {
   "cell_type": "markdown",
   "id": "f1d3c045",
   "metadata": {},
   "source": [
    "##### Understanding departure and scrape dates\n",
    "-- ----------------------"
   ]
  },
  {
   "cell_type": "code",
   "execution_count": 131,
   "id": "be1df454",
   "metadata": {},
   "outputs": [],
   "source": [
    "#Departure dates\n",
    "dep_dates = pd.to_datetime(df['departure_date'], format='%d.%m.%Y');\n",
    "dep_dates = sorted(dep_dates.unique()); \n",
    "dep_dates = pd.Series(dep_dates);\n",
    "dep_dates.shape;                                    \n",
    "dep_dates.diff(periods=1).unique();                \n",
    "\n",
    "#Scrape dates\n",
    "scrape_dates = pd.to_datetime(df['scrape_date'], format='%d.%m.%Y');\n",
    "scrape_dates = sorted(scrape_dates.unique()); \n",
    "scrape_dates = pd.Series(scrape_dates);\n",
    "scrape_dates.shape;                                    \n",
    "scrape_dates.diff(periods=1).unique();        "
   ]
  },
  {
   "cell_type": "markdown",
   "id": "e899f528",
   "metadata": {},
   "source": [
    "###### Conclusion: \n",
    "-- --------------\n",
    "* **Departure dates:**\n",
    "    * 42 unique departure dates\n",
    "    * departure date frequencies are not unique -> ['1 days', '11 days', '5 days', '44 days', '85 days']\n",
    "* **Scrape dates:**\n",
    "    * scrape date frequencies are only from 18-24.10.2019\n",
    "    * scrape date frequencies are unique -> 1 day"
   ]
  },
  {
   "cell_type": "markdown",
   "id": "c2cbe307",
   "metadata": {},
   "source": [
    "#####  Understanding departure-date distance\n",
    "-- ----------------------------------------"
   ]
  },
  {
   "cell_type": "code",
   "execution_count": 132,
   "id": "839dd45e",
   "metadata": {},
   "outputs": [],
   "source": [
    "df.departure_date_distance.value_counts();           \n",
    "#--> \n",
    "# 6 months    12672\n",
    "# 6 weeks     11222\n",
    "# 1 month     10092\n",
    "# 1 week       9949\n",
    "# 3 month      9748\n",
    "# 2 weeks      7850\n",
    "# 2 week       1093\n",
    "#--> Probably, scrape_date can be omitted, redundant feature?\n",
    "#-----"
   ]
  },
  {
   "cell_type": "markdown",
   "id": "d144796c",
   "metadata": {},
   "source": [
    "###### Conclusion: \n",
    "-- --------------\n",
    "* **Departure-date distance:**\n",
    "    * scrape_date can probably be omitted, redundant feature?"
   ]
  },
  {
   "cell_type": "markdown",
   "id": "235e770d",
   "metadata": {},
   "source": [
    "##### Understanding departure and arrival times\n",
    "-- ---------------------------------------------"
   ]
  },
  {
   "cell_type": "code",
   "execution_count": 133,
   "id": "849e0825",
   "metadata": {},
   "outputs": [],
   "source": [
    "#To-Do:\n",
    "#Time formats are not unique:\n",
    "#--> am/pm and 24 hr formats mixed\n",
    "#--> no consistent display schema\n",
    "#--> probably convert into categorical data: early-morning, morning, day, evening, night depending on time values"
   ]
  },
  {
   "cell_type": "markdown",
   "id": "64afcf85",
   "metadata": {},
   "source": [
    "##### Understanding Airlines\n",
    "-- ---------------------------------------------"
   ]
  },
  {
   "cell_type": "code",
   "execution_count": 134,
   "id": "7f64ec65",
   "metadata": {},
   "outputs": [
    {
     "data": {
      "text/plain": [
       "airline\n",
       "Lufthansa                        45912\n",
       "Eurowings                        12289\n",
       "easyJet                           2935\n",
       "KLM                                341\n",
       "Luxair                             290\n",
       "British Airways                    197\n",
       "Air France                         194\n",
       "Multiple Airlines                  153\n",
       "Swiss International Air Lines      140\n",
       "Mehrere Fluglinien                  69\n",
       "Austrian Airlines                   56\n",
       "LOT-Polish Airlines                 44\n",
       "Flybe                                3\n",
       "SAS                                  2\n",
       "Alitalia                             1\n",
       "Name: count, dtype: int64"
      ]
     },
     "execution_count": 134,
     "metadata": {},
     "output_type": "execute_result"
    }
   ],
   "source": [
    "df.airline.value_counts()"
   ]
  },
  {
   "cell_type": "markdown",
   "id": "1ad9169b",
   "metadata": {},
   "source": [
    "###### Conclusion: \n",
    "-- --------------\n",
    "* **Airlines:**\n",
    "    * There are 69 'Mehrere Fluglinien', Remove these entries?"
   ]
  },
  {
   "cell_type": "markdown",
   "id": "85d7aed4",
   "metadata": {},
   "source": [
    "##### Understanding stops\n",
    "-- ---------------------------------------------"
   ]
  },
  {
   "cell_type": "code",
   "execution_count": null,
   "id": "3fb8107c",
   "metadata": {},
   "outputs": [],
   "source": [
    "df.stops.value_counts();"
   ]
  },
  {
   "cell_type": "code",
   "execution_count": 136,
   "id": "413ee7a3",
   "metadata": {},
   "outputs": [
    {
     "data": {
      "text/html": [
       "<div>\n",
       "<style scoped>\n",
       "    .dataframe tbody tr th:only-of-type {\n",
       "        vertical-align: middle;\n",
       "    }\n",
       "\n",
       "    .dataframe tbody tr th {\n",
       "        vertical-align: top;\n",
       "    }\n",
       "\n",
       "    .dataframe thead th {\n",
       "        text-align: right;\n",
       "    }\n",
       "</style>\n",
       "<table border=\"1\" class=\"dataframe\">\n",
       "  <thead>\n",
       "    <tr style=\"text-align: right;\">\n",
       "      <th></th>\n",
       "      <th>departure_city</th>\n",
       "      <th>arrival_city</th>\n",
       "      <th>scrape_date</th>\n",
       "      <th>departure_date</th>\n",
       "      <th>departure_date_distance</th>\n",
       "      <th>departure_time</th>\n",
       "      <th>arrival_time</th>\n",
       "      <th>airline</th>\n",
       "      <th>stops</th>\n",
       "      <th>price</th>\n",
       "    </tr>\n",
       "  </thead>\n",
       "  <tbody>\n",
       "    <tr>\n",
       "      <th>5435</th>\n",
       "      <td>Nürnberg</td>\n",
       "      <td>Berlin-Tegel</td>\n",
       "      <td>18.10.2019</td>\n",
       "      <td>29.11.2019</td>\n",
       "      <td>6 weeks</td>\n",
       "      <td>14:20 Uhr</td>\n",
       "      <td>21:25 Uhr</td>\n",
       "      <td>Lufthansa</td>\n",
       "      <td>(1 Stopp)</td>\n",
       "      <td>204</td>\n",
       "    </tr>\n",
       "    <tr>\n",
       "      <th>22257</th>\n",
       "      <td>Dresden</td>\n",
       "      <td>Köln/Bonn</td>\n",
       "      <td>20.10.2019</td>\n",
       "      <td>20.04.2020</td>\n",
       "      <td>6 months</td>\n",
       "      <td>17:15 Uhr</td>\n",
       "      <td>20:00 Uhr</td>\n",
       "      <td>Lufthansa</td>\n",
       "      <td>(1 Stopp)</td>\n",
       "      <td>351</td>\n",
       "    </tr>\n",
       "    <tr>\n",
       "      <th>26354</th>\n",
       "      <td>München</td>\n",
       "      <td>Berlin-Tegel</td>\n",
       "      <td>21.10.2019</td>\n",
       "      <td>21.11.2019</td>\n",
       "      <td>1 month</td>\n",
       "      <td>06:15 Uhr</td>\n",
       "      <td>07:35 Uhr</td>\n",
       "      <td>easyJet</td>\n",
       "      <td>direct</td>\n",
       "      <td>46</td>\n",
       "    </tr>\n",
       "    <tr>\n",
       "      <th>48453</th>\n",
       "      <td>Berlin-Tegel</td>\n",
       "      <td>Düsseldorf</td>\n",
       "      <td>24.10.2019</td>\n",
       "      <td>07.11.2019</td>\n",
       "      <td>2 weeks</td>\n",
       "      <td>16:45 Uhr</td>\n",
       "      <td>22:20 Uhr</td>\n",
       "      <td>Lufthansa</td>\n",
       "      <td>(1 Stopp)</td>\n",
       "      <td>359</td>\n",
       "    </tr>\n",
       "    <tr>\n",
       "      <th>18861</th>\n",
       "      <td>Köln/Bonn</td>\n",
       "      <td>Berlin-Tegel</td>\n",
       "      <td>20.10.2019</td>\n",
       "      <td>20.01.2020</td>\n",
       "      <td>3 month</td>\n",
       "      <td>08:50 Uhr</td>\n",
       "      <td>10:00 Uhr</td>\n",
       "      <td>Eurowings</td>\n",
       "      <td>direct</td>\n",
       "      <td>52</td>\n",
       "    </tr>\n",
       "  </tbody>\n",
       "</table>\n",
       "</div>"
      ],
      "text/plain": [
       "      departure_city  arrival_city scrape_date departure_date  \\\n",
       "5435        Nürnberg  Berlin-Tegel  18.10.2019     29.11.2019   \n",
       "22257        Dresden     Köln/Bonn  20.10.2019     20.04.2020   \n",
       "26354        München  Berlin-Tegel  21.10.2019     21.11.2019   \n",
       "48453   Berlin-Tegel    Düsseldorf  24.10.2019     07.11.2019   \n",
       "18861      Köln/Bonn  Berlin-Tegel  20.10.2019     20.01.2020   \n",
       "\n",
       "      departure_date_distance departure_time arrival_time    airline  \\\n",
       "5435                  6 weeks      14:20 Uhr    21:25 Uhr  Lufthansa   \n",
       "22257                6 months      17:15 Uhr    20:00 Uhr  Lufthansa   \n",
       "26354                 1 month      06:15 Uhr    07:35 Uhr    easyJet   \n",
       "48453                 2 weeks      16:45 Uhr    22:20 Uhr  Lufthansa   \n",
       "18861                 3 month      08:50 Uhr    10:00 Uhr  Eurowings   \n",
       "\n",
       "           stops price  \n",
       "5435   (1 Stopp)   204  \n",
       "22257  (1 Stopp)   351  \n",
       "26354     direct    46  \n",
       "48453  (1 Stopp)   359  \n",
       "18861     direct    52  "
      ]
     },
     "execution_count": 136,
     "metadata": {},
     "output_type": "execute_result"
    }
   ],
   "source": [
    "df.sample(5)"
   ]
  }
 ],
 "metadata": {
  "kernelspec": {
   "display_name": "Python 3 (ipykernel)",
   "language": "python",
   "name": "python3"
  },
  "language_info": {
   "codemirror_mode": {
    "name": "ipython",
    "version": 3
   },
   "file_extension": ".py",
   "mimetype": "text/x-python",
   "name": "python",
   "nbconvert_exporter": "python",
   "pygments_lexer": "ipython3",
   "version": "3.11.5"
  }
 },
 "nbformat": 4,
 "nbformat_minor": 5
}
