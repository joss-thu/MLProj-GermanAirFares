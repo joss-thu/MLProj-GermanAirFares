{
 "cells": [
  {
   "cell_type": "markdown",
   "id": "6213315d",
   "metadata": {},
   "source": [
    "## Project- AirFares\n",
    "--- -------------------"
   ]
  },
  {
   "cell_type": "markdown",
   "id": "a47f430e",
   "metadata": {},
   "source": [
    "### A. Introduction\n",
    "--- -------------------"
   ]
  },
  {
   "cell_type": "markdown",
   "id": "bd59c183",
   "metadata": {},
   "source": [
    "This project studies the german domestic airfares during the period 25-10-2019 to 24-04-2020 between major airports in Germany. The aim of the project is to apply the techniques of machine learning on the dataset and understand the trends in pricing with respect to the various features such the booking date, departure & arrival cities, departure time etc. \n",
    "#### B. Details of dataset:\n",
    "-- -------------------\n",
    "1. Source: [https://www.kaggle.com/datasets/darjand/domestic-german-air-fares](https://www.kaggle.com/datasets/darjand/domestic-german-air-fares)\n",
    "2. Generation mode: web scraping\n",
    "3. Time period considered: 25-10-2019 to 24-04-2020 (6 months).\n",
    "4. Total entries: 63,000\n",
    "5. Features:\n",
    "    * departure_city: The city from which the flight departs.\n",
    "    * arrival_city: The city to which the flight arrives.\n",
    "    * scrape_date: The date when flight price information was retrieved.\n",
    "    * departure_date: The departure date of the flight (25-10-2019 to 24-04-2020).\n",
    "    * departure_date_distance: How far in advance (e.g., \"1 week\") the flight was booked.\n",
    "    * departure_time: The departure time of the flight.\n",
    "    * arrival_time: The arrival time of the flight.\n",
    "    * airline: The airline that operates the flight.\n",
    "    * stops: The number of layovers or stops during the flight.\n",
    "    * price (€): The price of the flight ticket in Euros."
   ]
  },
  {
   "cell_type": "markdown",
   "id": "3687c055",
   "metadata": {},
   "source": [
    "#### C. Imports:\n",
    "-- ----------"
   ]
  },
  {
   "cell_type": "code",
   "execution_count": 15,
   "id": "02f2a1a1",
   "metadata": {},
   "outputs": [],
   "source": [
    "#imports\n",
    "import numpy as np\n",
    "import pandas as pd\n",
    "import sklearn.model_selection as ms\n",
    "import sklearn.feature_extraction.text as text\n",
    "import sklearn.naive_bayes as nb\n",
    "import matplotlib.pyplot as plt\n",
    "from sklearn.preprocessing import LabelEncoder\n",
    "from sklearn.feature_extraction.text import TfidfVectorizer\n",
    "from sklearn.feature_extraction import text\n",
    "from sklearn.metrics import ConfusionMatrixDisplay, accuracy_score\n",
    "from datetime import datetime\n",
    "import holidays\n",
    "import time\n",
    "\n",
    "pd.set_option('display.max_colwidth', 50)\n"
   ]
  },
  {
   "cell_type": "markdown",
   "id": "83811552",
   "metadata": {},
   "source": [
    "#### D. Load the dataset:\n",
    "-- ------------------"
   ]
  },
  {
   "cell_type": "code",
   "execution_count": 16,
   "id": "d55c3793",
   "metadata": {},
   "outputs": [],
   "source": [
    "#Load the data set\n",
    "df = pd.read_csv('./data/German Air Fares.csv');"
   ]
  },
  {
   "cell_type": "markdown",
   "id": "99a79fe1",
   "metadata": {},
   "source": [
    "#### E. Data Understanding:\n",
    "-- ----------------------"
   ]
  },
  {
   "cell_type": "markdown",
   "id": "584f99c2",
   "metadata": {},
   "source": [
    "##### E.1 Basic statistics:"
   ]
  },
  {
   "cell_type": "code",
   "execution_count": 17,
   "id": "4671a6c7",
   "metadata": {},
   "outputs": [
    {
     "name": "stdout",
     "output_type": "stream",
     "text": [
      "<class 'pandas.core.frame.DataFrame'>\n",
      "RangeIndex: 62626 entries, 0 to 62625\n",
      "Data columns (total 10 columns):\n",
      " #   Column                   Non-Null Count  Dtype \n",
      "---  ------                   --------------  ----- \n",
      " 0   departure_city           62626 non-null  object\n",
      " 1   arrival_city             62626 non-null  object\n",
      " 2   scrape_date              62626 non-null  object\n",
      " 3   departure_date           62626 non-null  object\n",
      " 4   departure_date_distance  62626 non-null  object\n",
      " 5   departure_time           62626 non-null  object\n",
      " 6   arrival_time             62626 non-null  object\n",
      " 7   airline                  62626 non-null  object\n",
      " 8   stops                    62626 non-null  object\n",
      " 9   price (€)                62626 non-null  object\n",
      "dtypes: object(10)\n",
      "memory usage: 4.8+ MB\n"
     ]
    }
   ],
   "source": [
    "#Basic statistics\n",
    "df.shape;                                           #--> (62626, 10)\n",
    "df.info();df.isna().sum();                          #--> (No null objects)"
   ]
  },
  {
   "cell_type": "markdown",
   "id": "4af76e93",
   "metadata": {},
   "source": [
    "##### E.2 Understanding departure and arrival cities\n",
    "-- ----------------------"
   ]
  },
  {
   "cell_type": "code",
   "execution_count": 18,
   "id": "13b360b5",
   "metadata": {},
   "outputs": [],
   "source": [
    "df.departure_city.unique();\n",
    "# a. Extract departure city name, discard shortform (e.g. DUS Düsseldorf -> Düsseldorf)\n",
    "df['departure_city'] = df['departure_city'].astype(str).apply(lambda x: x.split()[1] if ' ' in x else x)\n",
    "\n",
    "df.arrival_city.unique();\n",
    "# b. Extract arrival city name, discard shortform (e.g. DUS Düsseldorf -> Düsseldorf)\n",
    "df['arrival_city'] = df['arrival_city'].astype(str).apply(lambda x: x.split()[1] if ' ' in x else x)\n",
    "\n",
    "# c. Replace departure & arrival cities with their respective rankings\n",
    "airport_ranking = pd.read_csv(\"./data/German Airport Ranking.csv\")\n",
    "airport_ranking_dict = dict(\n",
    "    zip(airport_ranking['Airport'], airport_ranking['Rank']))\n",
    "\n",
    "df['departure_city'] = df['departure_city'].map(airport_ranking_dict)\n",
    "df['arrival_city'] = df['arrival_city'].map(airport_ranking_dict)"
   ]
  },
  {
   "cell_type": "markdown",
   "id": "76a67d88",
   "metadata": {},
   "source": [
    "##### E.2 Conclusion: \n",
    "* **ToDos:**\n",
    "    * *A histogram showing distribution of departure and arrival cities would be interesting.*</font>"
   ]
  },
  {
   "cell_type": "markdown",
   "id": "f1d3c045",
   "metadata": {},
   "source": [
    "##### E.3 Understanding departure and scrape dates\n",
    "-- ----------------------"
   ]
  },
  {
   "cell_type": "code",
   "execution_count": 19,
   "id": "be1df454",
   "metadata": {},
   "outputs": [],
   "source": [
    "# a. Departure dates: Find the departure date frequencies: How spread are they?\n",
    "dep_dates = pd.to_datetime(df['departure_date'], dayfirst=True);\n",
    "dep_dates = sorted(dep_dates.unique()); \n",
    "dep_dates = pd.Series(dep_dates);\n",
    "dep_dates.shape;                                    \n",
    "dep_dates.diff(periods=1).unique();        \n",
    "\n",
    "# b. Scrape dates: Find the scrape date frequencies: How spread are they?\n",
    "scrape_dates = pd.to_datetime(df['scrape_date'], dayfirst=True);\n",
    "scrape_dates = sorted(scrape_dates.unique()); \n",
    "scrape_dates = pd.Series(scrape_dates);\n",
    "scrape_dates.shape;                                    \n",
    "scrape_dates.diff(periods=1).unique();\n",
    "# -------------------------------------------------------\n",
    "# c. Convert all date data into date-time format\n",
    "df.departure_date = pd.to_datetime(df.departure_date, dayfirst=True);\n",
    "df.scrape_date = pd.to_datetime(df.scrape_date, dayfirst=True);\n",
    "\n",
    "# c. Sort the dataframe according to departure dates\n",
    "df.sort_values(by='departure_date', inplace = True)\n",
    "#print('Dataframe sorted according to departure date: ',df.departure_date.is_monotonic_increasing); #-> True\n",
    "\n",
    "#--> Additionally, it was verified that there are no illegal date values."
   ]
  },
  {
   "cell_type": "markdown",
   "id": "e899f528",
   "metadata": {},
   "source": [
    "##### E3: Conclusion: \n",
    "* **Departure dates:**\n",
    "    * 42 unique departure dates\n",
    "    * departure date frequencies are not unique -> ['1 days', '11 days', '5 days', '44 days', '85 days']\n",
    "* **Scrape dates:**\n",
    "    * scrape date frequencies are only from 18-24.10.2019\n",
    "    * scrape date frequencies are unique -> 1 day"
   ]
  },
  {
   "cell_type": "markdown",
   "id": "27a32de3",
   "metadata": {},
   "source": [
    "##### E.4 Understanding departure_date_distance\n",
    "-- ----------------------"
   ]
  },
  {
   "cell_type": "code",
   "execution_count": 20,
   "id": "839dd45e",
   "metadata": {},
   "outputs": [],
   "source": [
    "df.departure_date_distance.value_counts();           \n",
    "#--> \n",
    "# 6 months    12672\n",
    "# 6 weeks     11222\n",
    "# 1 month     10092\n",
    "# 1 week       9949\n",
    "# 3 month      9748\n",
    "# 2 weeks      7850\n",
    "# 2 week       1093\n",
    "\n",
    "# Replace vague departure_date_distance (weeks, months etc.) with differences as days \n",
    "df.departure_date_distance =  (df['departure_date'] - df['scrape_date']).dt.days"
   ]
  },
  {
   "cell_type": "markdown",
   "id": "85f3ab7b",
   "metadata": {},
   "source": [
    "##### E.5 Understanding departure and arrival times\n",
    "-- ----------------------"
   ]
  },
  {
   "cell_type": "code",
   "execution_count": 21,
   "id": "849e0825",
   "metadata": {},
   "outputs": [],
   "source": [
    "# #To-Do:\n",
    "# #Time formats are not unique:\n",
    "# #--> am/pm and 24 hr formats mixed ->DONE\n",
    "# #--> no consistent display schema ->DONE\n",
    "# #--> convert time into number equivalents, in order to be usable in e.g., regression?\n",
    "# count = 0\n",
    "# for i in df['departure_time']:\n",
    "#     print(i)\n",
    "#     if(i.find('Uhr') >= 0):\n",
    "#         df['departure_time'][count] = datetime.strptime(i, '%H:%M Uhr').time()\n",
    "#     else:\n",
    "#         df['departure_time'][count] = datetime.strptime(i, '%I:%M%p').time()\n",
    "#     count += 1\n",
    "    \n",
    "# count = 0\n",
    "# for i in df['arrival_time']:\n",
    "#     if(i.find('Uhr') >= 0):\n",
    "#         df['arrival_time'][count] = datetime.strptime(i, '%H:%M Uhr').time()\n",
    "#     else:\n",
    "#         df['arrival_time'][count] = datetime.strptime(i, '%I:%M%p').time()\n",
    "#     count += 1"
   ]
  },
  {
   "cell_type": "markdown",
   "id": "88f0fa7d",
   "metadata": {},
   "source": [
    "##### E.5 Conclusion: \n",
    "* **ToDos:**\n",
    "    * <font color='red'>**Feedback from professor:**\n",
    "        * The time data needs to be converted into real numbers. Convert times into hours only (e.g. 12:30 and 12:45 --> just 12) for easier computation. The values would be then in range 0 -> 24\n",
    "        * Use departure times only as feature, no need of arrival time, to keep it simple</font>\n",
    "    * *A histogram showing distribution of departure and arrival time intervals would be interesting.*</font>\n",
    "    * <font color='green'>**Additional Feature:**\n",
    "        * The travel time (arrival_time - departure_time) could be a new feature, in addition to the departure and arrival times itself</font>\n",
    "    * **Assigned to:** Dominik\n",
    "    "
   ]
  },
  {
   "cell_type": "markdown",
   "id": "64afcf85",
   "metadata": {},
   "source": [
    "##### E.6 Understanding Airlines\n",
    "-- ---------------------------------------------"
   ]
  },
  {
   "cell_type": "code",
   "execution_count": 22,
   "id": "7f64ec65",
   "metadata": {},
   "outputs": [],
   "source": [
    "# a. Drop rows with 'Mehrere Fluglinien' and 'Multiple airlines'\n",
    "pd.options.mode.chained_assignment = None\n",
    "mul = []\n",
    "count = 0\n",
    "for i in df['airline']:\n",
    "    if(i == 'Mehrere Fluglinien' or i == 'Multiple Airlines'):\n",
    "        mul.append(count)\n",
    "    df['airline'][count] = i.replace('easyJet', 'EasyJet') # Rename 'easyjet' to 'Easyjet'\n",
    "    count += 1\n",
    "df.drop(mul, axis=0, inplace=True)  # Drop rows with 'Mehrere Fluglinien' and 'Multiple Airlines'\n",
    "df.reset_index(drop=True, inplace=True)\n",
    "\n",
    "# b. Convert airlines into their respective ranks (numerical representation)\n",
    "airport_ranking = pd.read_csv(\"./data/Airline Ranking.csv\")\n",
    "Airline_ranking_dict = dict(\n",
    "    zip(airport_ranking['airline'], airport_ranking['rank']))\n",
    "\n",
    "df['airline'] = df['airline'].map(Airline_ranking_dict)"
   ]
  },
  {
   "cell_type": "markdown",
   "id": "1ad9169b",
   "metadata": {},
   "source": [
    "##### E.6 Conclusion:\n",
    "* **Airlines:**\n",
    "    * There were 69 'Mehrere Fluglinien' and 153 'Multiple Airlines', these entries were removed.    "
   ]
  },
  {
   "cell_type": "markdown",
   "id": "85d7aed4",
   "metadata": {},
   "source": [
    "##### E.7 Understanding stops\n",
    "---------------------------------------------"
   ]
  },
  {
   "cell_type": "code",
   "execution_count": 23,
   "id": "3fb8107c",
   "metadata": {},
   "outputs": [],
   "source": [
    "# Stops are converted into numerical values\n",
    "# 0, 1 and 2 stops.\n",
    "count = 0\n",
    "for i in df['stops']:\n",
    "    if(i.find('d') >= 0):\n",
    "        df['stops'][count] = 0\n",
    "    elif(i.find('2') >= 0):\n",
    "        df['stops'][count] = 2\n",
    "    else:\n",
    "        df['stops'][count] = 1\n",
    "    count += 1\n",
    "df['stops'] = df['stops'].astype(int);\n",
    "df.stops.value_counts();"
   ]
  },
  {
   "cell_type": "markdown",
   "id": "4393d49c",
   "metadata": {},
   "source": [
    "##### E8. Understanding prices\n",
    "--------------------------\n"
   ]
  },
  {
   "cell_type": "code",
   "execution_count": 24,
   "id": "413ee7a3",
   "metadata": {
    "tags": []
   },
   "outputs": [],
   "source": [
    "# a. Rename 'price (€)' to 'price'\n",
    "df = df.rename(columns={'price (€)': 'price'});\n",
    "\n",
    "# b. format into int properly\n",
    "count = 0\n",
    "for i in df['price']:\n",
    "    if(i.find(',') >= 0):\n",
    "        df['price'][count] = i.replace(',', '') #-> e.g. 1,047 to 1047\n",
    "    count += 1\n",
    "df['price'] = df['price'].astype(int)"
   ]
  },
  {
   "cell_type": "markdown",
   "id": "74bf8c62",
   "metadata": {},
   "source": [
    "##### E.8 Conclusion:\n",
    "* prices are, of course, the target value"
   ]
  },
  {
   "cell_type": "markdown",
   "id": "40ed8c9c",
   "metadata": {},
   "source": [
    "### F. New Features:\n",
    "-- -----------"
   ]
  },
  {
   "cell_type": "markdown",
   "id": "5c9f16d8",
   "metadata": {},
   "source": [
    "##### F.1: Departure weekdays"
   ]
  },
  {
   "cell_type": "code",
   "execution_count": 25,
   "id": "5789c733",
   "metadata": {},
   "outputs": [],
   "source": [
    "#  week starts on Monday, which is denoted by 0 and ends on Sunday which is denoted by 6. \n",
    "if 'departure_weekday' not in df.columns:\n",
    "    df.insert(5,'departure_weekday', df.departure_date.dt.weekday)\n"
   ]
  },
  {
   "cell_type": "markdown",
   "id": "61232639",
   "metadata": {},
   "source": [
    "##### F.2: days_until_a_holiday"
   ]
  },
  {
   "cell_type": "code",
   "execution_count": 26,
   "id": "98f9f317",
   "metadata": {},
   "outputs": [],
   "source": [
    "# Create a holidays list for Germany for the years 2019 & 2020.\n",
    "# Only the national holidays as provided by the holidays library are taken into account. They are:\n",
    "# date\tholiday\n",
    "# 0\t    2019-01-01\tNeujahr\n",
    "# 1\t    2019-04-19\tKarfreitag\n",
    "# 2\t    2019-04-22\tOstermontag\n",
    "# 3\t    2019-05-01\tErster Mai\n",
    "# 4\t    2019-05-30\tChristi Himmelfahrt\n",
    "# 5\t    2019-06-10\tPfingstmontag\n",
    "# 6\t    2019-10-03\tTag der Deutschen Einheit\n",
    "# 7\t    2019-12-25\tErster Weihnachtstag\n",
    "# 8\t    2019-12-26\tZweiter Weihnachtstag\n",
    "#----------------------------------------\n",
    "# 9\t    2020-01-01\tNeujahr\n",
    "# 10\t2020-04-10\tKarfreitag\n",
    "# 11\t2020-04-13\tOstermontag\n",
    "# 12\t2020-05-01\tErster Mai\n",
    "# 13\t2020-05-21\tChristi Himmelfahrt\n",
    "# 14\t2020-06-01\tPfingstmontag\n",
    "# 15\t2020-10-03\tTag der Deutschen Einheit\n",
    "# 16\t2020-12-25\tErster Weihnachtstag\n",
    "# 17\t2020-12-26\tZweiter Weihnachtstag\n",
    "\n",
    "holiday_list = []\n",
    "for holiday in holidays.Germany(years=[2019,2020]).items():\n",
    "    holiday_list.append(holiday)\n",
    "\n",
    "holidays_df = pd.DataFrame(holiday_list, columns=['date','holiday'])\n",
    "holidays_df.date = pd.to_datetime(holidays_df.date)\n",
    "\n",
    "# Sort holidays_df by date\n",
    "holidays_df = holidays_df.sort_values(by='date')\n",
    "\n",
    "# Define a function to find the next holiday\n",
    "def find_next_holiday(departure_date):\n",
    "    return holidays_df[holidays_df['date'] >= departure_date].iloc[0]['date']\n",
    "\n",
    "# Apply the function to get the 'next_holiday'\n",
    "df.insert(6,'next_holiday', df['departure_date'].apply(find_next_holiday))\n",
    "\n",
    "# Calculate the difference between the two dates to get the 'days_until_holiday'\n",
    "df.insert(6,'days_until_holiday', (df['next_holiday'] - df['departure_date']).dt.days)"
   ]
  },
  {
   "cell_type": "code",
   "execution_count": null,
   "id": "53af1d96",
   "metadata": {},
   "outputs": [],
   "source": [
    "df.airline.value_counts()"
   ]
  }
 ],
 "metadata": {
  "kernelspec": {
   "display_name": "Python 3 (ipykernel)",
   "language": "python",
   "name": "python3"
  },
  "language_info": {
   "codemirror_mode": {
    "name": "ipython",
    "version": 3
   },
   "file_extension": ".py",
   "mimetype": "text/x-python",
   "name": "python",
   "nbconvert_exporter": "python",
   "pygments_lexer": "ipython3",
   "version": "3.11.5"
  }
 },
 "nbformat": 4,
 "nbformat_minor": 5
}
