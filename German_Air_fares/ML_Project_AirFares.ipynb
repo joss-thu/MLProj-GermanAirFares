{
 "cells": [
  {
   "cell_type": "markdown",
   "id": "6213315d",
   "metadata": {},
   "source": [
    "## Project- AirFares\n",
    "--- -------------------"
   ]
  },
  {
   "cell_type": "markdown",
   "id": "a47f430e",
   "metadata": {},
   "source": [
    "### A. Introduction\n",
    "--- -------------------"
   ]
  },
  {
   "cell_type": "markdown",
   "id": "bd59c183",
   "metadata": {},
   "source": [
    "This project studies the german domestic airfares during the period 25-10-2019 to 24-04-2020 between major airports in Germany. The aim of the project is to apply the techniques of machine learning on the dataset and understand the trends in pricing with respect to the various features such the booking date, departure & arrival cities, departure time etc. \n",
    "#### B. Details of dataset:\n",
    "-- -------------------\n",
    "1. Source: [https://www.kaggle.com/datasets/darjand/domestic-german-air-fares](https://www.kaggle.com/datasets/darjand/domestic-german-air-fares)\n",
    "2. Generation mode: web scraping\n",
    "3. Time period considered: 25-10-2019 to 24-04-2020 (6 months).\n",
    "4. Total entries: 63,000\n",
    "5. Features:\n",
    "    * departure_city: The city from which the flight departs.\n",
    "    * arrival_city: The city to which the flight arrives.\n",
    "    * scrape_date: The date when flight price information was retrieved.\n",
    "    * departure_date: The departure date of the flight (25-10-2019 to 24-04-2020).\n",
    "    * departure_date_distance: How far in advance (e.g., \"1 week\") the flight was booked.\n",
    "    * departure_time: The departure time of the flight.\n",
    "    * arrival_time: The arrival time of the flight.\n",
    "    * airline: The airline that operates the flight.\n",
    "    * stops: The number of layovers or stops during the flight.\n",
    "    * price (€): The price of the flight ticket in Euros."
   ]
  },
  {
   "cell_type": "markdown",
   "id": "3687c055",
   "metadata": {},
   "source": [
    "#### C. Imports:\n",
    "-- ----------"
   ]
  },
  {
   "cell_type": "code",
   "execution_count": 25,
   "id": "02f2a1a1",
   "metadata": {},
   "outputs": [
    {
     "ename": "ModuleNotFoundError",
     "evalue": "No module named 'seaborn'",
     "output_type": "error",
     "traceback": [
      "\u001b[1;31m---------------------------------------------------------------------------\u001b[0m",
      "\u001b[1;31mModuleNotFoundError\u001b[0m                       Traceback (most recent call last)",
      "Cell \u001b[1;32mIn[25], line 17\u001b[0m\n\u001b[0;32m     15\u001b[0m \u001b[38;5;28;01mfrom\u001b[39;00m \u001b[38;5;21;01msklearn\u001b[39;00m\u001b[38;5;21;01m.\u001b[39;00m\u001b[38;5;21;01mmetrics\u001b[39;00m \u001b[38;5;28;01mimport\u001b[39;00m r2_score\n\u001b[0;32m     16\u001b[0m \u001b[38;5;28;01mfrom\u001b[39;00m \u001b[38;5;21;01msklearn\u001b[39;00m\u001b[38;5;21;01m.\u001b[39;00m\u001b[38;5;21;01mmetrics\u001b[39;00m \u001b[38;5;28;01mimport\u001b[39;00m mean_absolute_error\n\u001b[1;32m---> 17\u001b[0m \u001b[38;5;28;01mimport\u001b[39;00m \u001b[38;5;21;01mseaborn\u001b[39;00m \u001b[38;5;28;01mas\u001b[39;00m \u001b[38;5;21;01msns\u001b[39;00m\n\u001b[0;32m     18\u001b[0m \u001b[38;5;28;01mfrom\u001b[39;00m \u001b[38;5;21;01mdatetime\u001b[39;00m \u001b[38;5;28;01mimport\u001b[39;00m datetime\n\u001b[0;32m     19\u001b[0m \u001b[38;5;28;01mimport\u001b[39;00m \u001b[38;5;21;01mholidays\u001b[39;00m\n",
      "\u001b[1;31mModuleNotFoundError\u001b[0m: No module named 'seaborn'"
     ]
    }
   ],
   "source": [
    "#imports\n",
    "import numpy as np\n",
    "import pandas as pd\n",
    "import sklearn.model_selection as ms\n",
    "import sklearn.feature_extraction.text as text\n",
    "import sklearn.naive_bayes as nb\n",
    "import matplotlib.pyplot as plt\n",
    "from sklearn.preprocessing import LabelEncoder\n",
    "from sklearn.feature_extraction.text import TfidfVectorizer\n",
    "from sklearn.feature_extraction import text\n",
    "from sklearn.metrics import ConfusionMatrixDisplay, accuracy_score\n",
    "from sklearn.model_selection import train_test_split\n",
    "from sklearn.ensemble import RandomForestRegressor\n",
    "from sklearn.metrics import mean_squared_error\n",
    "from sklearn.metrics import r2_score\n",
    "from sklearn.metrics import mean_absolute_error\n",
    "from datetime import datetime\n",
    "import holidays\n",
    "import time\n",
    "\n",
    "pd.set_option('display.max_colwidth', 50)"
   ]
  },
  {
   "cell_type": "markdown",
   "id": "83811552",
   "metadata": {},
   "source": [
    "#### D. Load the dataset:\n",
    "-- ------------------"
   ]
  },
  {
   "cell_type": "code",
   "execution_count": 3,
   "id": "d55c3793",
   "metadata": {},
   "outputs": [],
   "source": [
    "#Load the data set\n",
    "df = pd.read_csv('./data/German Air Fares.csv');"
   ]
  },
  {
   "cell_type": "markdown",
   "id": "99a79fe1",
   "metadata": {},
   "source": [
    "#### E. Data Understanding:\n",
    "-- ----------------------"
   ]
  },
  {
   "cell_type": "markdown",
   "id": "584f99c2",
   "metadata": {},
   "source": [
    "##### E.1 Basic statistics:"
   ]
  },
  {
   "cell_type": "code",
   "execution_count": 4,
   "id": "4671a6c7",
   "metadata": {},
   "outputs": [
    {
     "name": "stdout",
     "output_type": "stream",
     "text": [
      "<class 'pandas.core.frame.DataFrame'>\n",
      "RangeIndex: 62626 entries, 0 to 62625\n",
      "Data columns (total 10 columns):\n",
      " #   Column                   Non-Null Count  Dtype \n",
      "---  ------                   --------------  ----- \n",
      " 0   departure_city           62626 non-null  object\n",
      " 1   arrival_city             62626 non-null  object\n",
      " 2   scrape_date              62626 non-null  object\n",
      " 3   departure_date           62626 non-null  object\n",
      " 4   departure_date_distance  62626 non-null  object\n",
      " 5   departure_time           62626 non-null  object\n",
      " 6   arrival_time             62626 non-null  object\n",
      " 7   airline                  62626 non-null  object\n",
      " 8   stops                    62626 non-null  object\n",
      " 9   price (€)                62626 non-null  object\n",
      "dtypes: object(10)\n",
      "memory usage: 4.8+ MB\n"
     ]
    }
   ],
   "source": [
    "#Basic statistics\n",
    "df.shape;                                           #--> (62626, 10)\n",
    "df.info();df.isna().sum();                          #--> (No null objects)"
   ]
  },
  {
   "cell_type": "markdown",
   "id": "4af76e93",
   "metadata": {},
   "source": [
    "##### E.2 Understanding departure and arrival cities\n",
    "-- ----------------------"
   ]
  },
  {
   "cell_type": "code",
   "execution_count": 5,
   "id": "13b360b5",
   "metadata": {},
   "outputs": [],
   "source": [
    "df.departure_city.unique();\n",
    "# a. Extract departure city name, discard shortform (e.g. DUS Düsseldorf -> Düsseldorf)\n",
    "df['departure_city'] = df['departure_city'].astype(str).apply(lambda x: x.split()[1] if ' ' in x else x)\n",
    "\n",
    "df.arrival_city.unique();\n",
    "# b. Extract arrival city name, discard shortform (e.g. DUS Düsseldorf -> Düsseldorf)\n",
    "df['arrival_city'] = df['arrival_city'].astype(str).apply(lambda x: x.split()[1] if ' ' in x else x)\n",
    "\n",
    "# c. Replace departure & arrival cities with their respective rankings\n",
    "airport_ranking = pd.read_csv(\"./data/German Airport Ranking.csv\")\n",
    "airport_ranking_dict = dict(\n",
    "    zip(airport_ranking['Airport'], airport_ranking['Rank']))\n",
    "\n",
    "df['departure_city'] = df['departure_city'].map(airport_ranking_dict)\n",
    "df['arrival_city'] = df['arrival_city'].map(airport_ranking_dict)"
   ]
  },
  {
   "cell_type": "markdown",
   "id": "76a67d88",
   "metadata": {},
   "source": [
    "##### E.2 Conclusion: \n",
    "* **ToDos:**\n",
    "    * *A histogram showing distribution of departure and arrival cities would be interesting.*</font>"
   ]
  },
  {
   "cell_type": "markdown",
   "id": "f1d3c045",
   "metadata": {},
   "source": [
    "##### E.3 Understanding departure and scrape dates\n",
    "-- ----------------------"
   ]
  },
  {
   "cell_type": "code",
   "execution_count": 6,
   "id": "be1df454",
   "metadata": {},
   "outputs": [],
   "source": [
    "# a. Departure dates: Find the departure date frequencies: How spread are they?\n",
    "dep_dates = pd.to_datetime(df['departure_date'], dayfirst=True);\n",
    "dep_dates = sorted(dep_dates.unique()); \n",
    "dep_dates = pd.Series(dep_dates);\n",
    "dep_dates.shape;                                    \n",
    "dep_dates.diff(periods=1).unique();        \n",
    "\n",
    "# b. Scrape dates: Find the scrape date frequencies: How spread are they?\n",
    "scrape_dates = pd.to_datetime(df['scrape_date'], dayfirst=True);\n",
    "scrape_dates = sorted(scrape_dates.unique()); \n",
    "scrape_dates = pd.Series(scrape_dates);\n",
    "scrape_dates.shape;                                    \n",
    "scrape_dates.diff(periods=1).unique();\n",
    "# -------------------------------------------------------\n",
    "# c. Convert all date data into date-time format\n",
    "df.departure_date = pd.to_datetime(df.departure_date, dayfirst=True);\n",
    "df.scrape_date = pd.to_datetime(df.scrape_date, dayfirst=True);\n",
    "\n",
    "# c. Sort the dataframe according to departure dates\n",
    "df.sort_values(by='departure_date', inplace = True)\n",
    "#print('Dataframe sorted according to departure date: ',df.departure_date.is_monotonic_increasing); #-> True\n",
    "\n",
    "#--> Additionally, it was verified that there are no illegal date values."
   ]
  },
  {
   "cell_type": "markdown",
   "id": "e899f528",
   "metadata": {},
   "source": [
    "##### E3: Conclusion: \n",
    "* **Departure dates:**\n",
    "    * 42 unique departure dates\n",
    "    * departure date frequencies are not unique -> ['1 days', '11 days', '5 days', '44 days', '85 days']\n",
    "* **Scrape dates:**\n",
    "    * scrape date frequencies are only from 18-24.10.2019\n",
    "    * scrape date frequencies are unique -> 1 day"
   ]
  },
  {
   "cell_type": "markdown",
   "id": "27a32de3",
   "metadata": {},
   "source": [
    "##### E.4 Understanding departure_date_distance\n",
    "-- ----------------------"
   ]
  },
  {
   "cell_type": "code",
   "execution_count": 7,
   "id": "839dd45e",
   "metadata": {},
   "outputs": [],
   "source": [
    "df.departure_date_distance.value_counts();           \n",
    "#--> \n",
    "# 6 months    12672\n",
    "# 6 weeks     11222\n",
    "# 1 month     10092\n",
    "# 1 week       9949\n",
    "# 3 month      9748\n",
    "# 2 weeks      7850\n",
    "# 2 week       1093\n",
    "\n",
    "# Replace vague departure_date_distance (weeks, months etc.) with differences as days \n",
    "df.departure_date_distance =  (df['departure_date'] - df['scrape_date']).dt.days"
   ]
  },
  {
   "cell_type": "markdown",
   "id": "85f3ab7b",
   "metadata": {},
   "source": [
    "##### E.5 Understanding departure and arrival times\n",
    "-- ----------------------"
   ]
  },
  {
   "cell_type": "code",
   "execution_count": 8,
   "id": "849e0825",
   "metadata": {},
   "outputs": [],
   "source": [
    "# a. Uniformize time formats ('Uhr', am/pm) into xx:xx 24-hour format\n",
    "def convert_to_24_hour_format(time_str):\n",
    "    if 'Uhr' in time_str:\n",
    "        return datetime.strptime(time_str, '%H:%M Uhr').strftime('%H:%M')\n",
    "    else:\n",
    "        return datetime.strptime(time_str, '%I:%M%p').strftime('%H:%M')\n",
    "\n",
    "# Convert departure time column to 24-hour format\n",
    "df['departure_time'] = df['departure_time'].apply(convert_to_24_hour_format)\n",
    "df['arrival_time'] = df['arrival_time'].apply(convert_to_24_hour_format)\n",
    "\n",
    "# Strip only the hour (to make matters simple)\n",
    "df['departure_time_hour'] = df['departure_time'].apply(lambda x: int(x.split(':')[0]))"
   ]
  },
  {
   "cell_type": "markdown",
   "id": "64afcf85",
   "metadata": {},
   "source": [
    "##### E.6 Understanding Airlines\n",
    "-- ---------------------------------------------"
   ]
  },
  {
   "cell_type": "code",
   "execution_count": 9,
   "id": "7f64ec65",
   "metadata": {},
   "outputs": [],
   "source": [
    "# a. Drop rows with 'Mehrere Fluglinien' and 'Multiple airlines'\n",
    "\n",
    "df = df[~df['airline'].isin(['Mehrere Fluglinien', 'Multiple Airlines'])]\n",
    "df['airline'] = df['airline'].replace('easyJet', 'EasyJet')\n",
    "\n",
    "# b. Convert airlines into their respective ranks (numerical representation)\n",
    "airport_ranking = pd.read_csv(\"./data/Airline Ranking.csv\")\n",
    "Airline_ranking_dict = dict(\n",
    "    zip(airport_ranking['airline'], airport_ranking['rank']))\n",
    "\n",
    "df['airline'] = df['airline'].map(Airline_ranking_dict)"
   ]
  },
  {
   "cell_type": "markdown",
   "id": "1ad9169b",
   "metadata": {},
   "source": [
    "##### E.6 Conclusion:\n",
    "* **Airlines:**\n",
    "    * There were 69 'Mehrere Fluglinien' and 153 'Multiple Airlines', these entries were removed.    "
   ]
  },
  {
   "cell_type": "markdown",
   "id": "85d7aed4",
   "metadata": {},
   "source": [
    "##### E.7 Understanding stops\n",
    "---------------------------------------------"
   ]
  },
  {
   "cell_type": "code",
   "execution_count": 10,
   "id": "3fb8107c",
   "metadata": {},
   "outputs": [],
   "source": [
    "# Stops are converted into numerical values\n",
    "# 0, 1 and 2 stops.\n",
    "def countStops(stop):\n",
    "    if 'direct' in stop:\n",
    "        return 0\n",
    "    elif '1' in stop:\n",
    "        return 1\n",
    "    elif '2' in stop:\n",
    "        return 2\n",
    "    \n",
    "df['stops'] = df['stops'].apply(countStops)"
   ]
  },
  {
   "cell_type": "markdown",
   "id": "4393d49c",
   "metadata": {},
   "source": [
    "##### E8. Understanding prices\n",
    "--------------------------\n"
   ]
  },
  {
   "cell_type": "code",
   "execution_count": 11,
   "id": "413ee7a3",
   "metadata": {
    "tags": []
   },
   "outputs": [],
   "source": [
    "# a. Rename 'price (€)' to 'price'\n",
    "df = df.rename(columns={'price (€)': 'price'});\n",
    "\n",
    "# b. format into int properly\n",
    "df['price'] = df['price'].str.replace(',', '').astype(int)"
   ]
  },
  {
   "cell_type": "markdown",
   "id": "74bf8c62",
   "metadata": {},
   "source": [
    "##### E.8 Conclusion:\n",
    "* prices are, of course, the target value"
   ]
  },
  {
   "cell_type": "markdown",
   "id": "40ed8c9c",
   "metadata": {},
   "source": [
    "### F. New Features:\n",
    "-- -----------"
   ]
  },
  {
   "cell_type": "markdown",
   "id": "5c9f16d8",
   "metadata": {},
   "source": [
    "##### F.1: Departure weekdays"
   ]
  },
  {
   "cell_type": "code",
   "execution_count": 12,
   "id": "5789c733",
   "metadata": {},
   "outputs": [],
   "source": [
    "#  week starts on Monday, which is denoted by 0 and ends on Sunday which is denoted by 6. \n",
    "if 'departure_weekday' not in df.columns:\n",
    "    df.insert(5,'departure_weekday', df.departure_date.dt.weekday)"
   ]
  },
  {
   "cell_type": "markdown",
   "id": "61232639",
   "metadata": {},
   "source": [
    "##### F.2: days_until_a_holiday"
   ]
  },
  {
   "cell_type": "code",
   "execution_count": 13,
   "id": "98f9f317",
   "metadata": {},
   "outputs": [],
   "source": [
    "# Create a holidays list for Germany for the years 2019 & 2020.\n",
    "# Only the national holidays as provided by the holidays library are taken into account. They are:\n",
    "# date\tholiday\n",
    "# 0\t    2019-01-01\tNeujahr\n",
    "# 1\t    2019-04-19\tKarfreitag\n",
    "# 2\t    2019-04-22\tOstermontag\n",
    "# 3\t    2019-05-01\tErster Mai\n",
    "# 4\t    2019-05-30\tChristi Himmelfahrt\n",
    "# 5\t    2019-06-10\tPfingstmontag\n",
    "# 6\t    2019-10-03\tTag der Deutschen Einheit\n",
    "# 7\t    2019-12-25\tErster Weihnachtstag\n",
    "# 8\t    2019-12-26\tZweiter Weihnachtstag\n",
    "#----------------------------------------\n",
    "# 9\t    2020-01-01\tNeujahr\n",
    "# 10\t2020-04-10\tKarfreitag\n",
    "# 11\t2020-04-13\tOstermontag\n",
    "# 12\t2020-05-01\tErster Mai\n",
    "# 13\t2020-05-21\tChristi Himmelfahrt\n",
    "# 14\t2020-06-01\tPfingstmontag\n",
    "# 15\t2020-10-03\tTag der Deutschen Einheit\n",
    "# 16\t2020-12-25\tErster Weihnachtstag\n",
    "# 17\t2020-12-26\tZweiter Weihnachtstag\n",
    "\n",
    "holiday_list = list(holidays.Germany(years=[2019, 2020]).items())\n",
    "\n",
    "holidays_df = pd.DataFrame(holiday_list, columns=['date','holiday'])\n",
    "holidays_df.date = pd.to_datetime(holidays_df.date)\n",
    "\n",
    "# Sort holidays_df by date\n",
    "holidays_df = holidays_df.sort_values(by='date')\n",
    "\n",
    "# Define a function to find the next holiday\n",
    "def find_next_holiday(departure_date):\n",
    "    return holidays_df[holidays_df['date'] >= departure_date].iloc[0]['date']\n",
    "\n",
    "# Apply the function to get the 'next_holiday'\n",
    "df['next_holiday'] = df['departure_date'].apply(find_next_holiday)\n",
    "\n",
    "# Calculate the difference between the two dates to get the 'days_until_holiday'\n",
    "df['days_until_holiday'] = (df['next_holiday'] - df['departure_date']).dt.days"
   ]
  },
  {
   "cell_type": "markdown",
   "id": "fd5b6e76",
   "metadata": {},
   "source": [
    "##### F.3: travel_time"
   ]
  },
  {
   "cell_type": "code",
   "execution_count": 14,
   "id": "37449577",
   "metadata": {},
   "outputs": [],
   "source": [
    "# Calculate the difference between departure and arrival times in hours\n",
    "df['travel_time'] = (pd.to_datetime(df['arrival_time'], format='%H:%M') - pd.to_datetime(df['departure_time'], format='%H:%M')).dt.total_seconds() / 3600\n",
    "\n",
    "# Normalize the travel time\n",
    "df['travel_time'] =  df['travel_time'].apply(lambda x: round(x, 2))"
   ]
  },
  {
   "cell_type": "markdown",
   "id": "c9c56d4f",
   "metadata": {},
   "source": [
    "### G. Features + Y Dataframe:\n",
    "-- -----------"
   ]
  },
  {
   "cell_type": "code",
   "execution_count": 15,
   "id": "53af1d96",
   "metadata": {},
   "outputs": [],
   "source": [
    "df = df.drop(['scrape_date', 'departure_date', 'next_holiday', 'departure_time', 'arrival_time'],axis=1)\n",
    "df = df[['departure_city', 'arrival_city',\t'departure_date_distance',\t'departure_weekday', 'departure_time_hour', 'travel_time', 'days_until_holiday', 'airline',\t'stops', 'price']]"
   ]
  },
  {
   "cell_type": "code",
   "execution_count": 19,
   "id": "578bc80f",
   "metadata": {},
   "outputs": [
    {
     "name": "stdout",
     "output_type": "stream",
     "text": [
      "Mean Squared Error: 1463.89163\n",
      "R-squared: 0.95001\n",
      "Mean Absolute Error: 19.93108\n"
     ]
    }
   ],
   "source": [
    "X = df.drop(columns=['price'], axis=1)\n",
    "y = df['price']\n",
    "\n",
    "X_train, X_test, y_train, y_test = train_test_split(\n",
    "    X, y, test_size=0.2, random_state=42)\n",
    "\n",
    "# Create a Random Forest Regressor\n",
    "regressor = RandomForestRegressor(\n",
    "    n_estimators=100, random_state=42)\n",
    "\n",
    "# Train the regressor on the training data\n",
    "regressor.fit(X_train, y_train)\n",
    "\n",
    "# Make predictions on the testing set\n",
    "predictions = regressor.predict(X_test)\n",
    "\n",
    "# Evaluate the performance of the regressor (e.g., using mean squared error)\n",
    "mse = mean_squared_error(y_test, predictions)\n",
    "print(f\"Mean Squared Error: {mse:.5f}\")\n",
    "\n",
    "r2 = r2_score(y_test, predictions)\n",
    "print(f\"R-squared: {r2:.5f}\")\n",
    "\n",
    "mae = mean_absolute_error(y_test, predictions)\n",
    "print(f\"Mean Absolute Error: {mae:.5f}\")"
   ]
  },
  {
   "cell_type": "code",
   "execution_count": 33,
   "id": "088cd887",
   "metadata": {},
   "outputs": [
    {
     "name": "stdout",
     "output_type": "stream",
     "text": [
      "Mean Squared Error: 1465.85465\n",
      "R-squared: 0.94995\n",
      "Mean Absolute Error: 19.91910\n"
     ]
    },
    {
     "data": {
      "text/html": [
       "<div>\n",
       "<style scoped>\n",
       "    .dataframe tbody tr th:only-of-type {\n",
       "        vertical-align: middle;\n",
       "    }\n",
       "\n",
       "    .dataframe tbody tr th {\n",
       "        vertical-align: top;\n",
       "    }\n",
       "\n",
       "    .dataframe thead th {\n",
       "        text-align: right;\n",
       "    }\n",
       "</style>\n",
       "<table border=\"1\" class=\"dataframe\">\n",
       "  <thead>\n",
       "    <tr style=\"text-align: right;\">\n",
       "      <th></th>\n",
       "      <th>Actual</th>\n",
       "      <th>Predicted</th>\n",
       "    </tr>\n",
       "  </thead>\n",
       "  <tbody>\n",
       "    <tr>\n",
       "      <th>45026</th>\n",
       "      <td>231</td>\n",
       "      <td>177.740000</td>\n",
       "    </tr>\n",
       "    <tr>\n",
       "      <th>24207</th>\n",
       "      <td>372</td>\n",
       "      <td>341.282143</td>\n",
       "    </tr>\n",
       "    <tr>\n",
       "      <th>62253</th>\n",
       "      <td>352</td>\n",
       "      <td>352.600000</td>\n",
       "    </tr>\n",
       "    <tr>\n",
       "      <th>59092</th>\n",
       "      <td>62</td>\n",
       "      <td>72.820000</td>\n",
       "    </tr>\n",
       "    <tr>\n",
       "      <th>36939</th>\n",
       "      <td>132</td>\n",
       "      <td>132.320000</td>\n",
       "    </tr>\n",
       "  </tbody>\n",
       "</table>\n",
       "</div>"
      ],
      "text/plain": [
       "       Actual   Predicted\n",
       "45026     231  177.740000\n",
       "24207     372  341.282143\n",
       "62253     352  352.600000\n",
       "59092      62   72.820000\n",
       "36939     132  132.320000"
      ]
     },
     "execution_count": 33,
     "metadata": {},
     "output_type": "execute_result"
    }
   ],
   "source": [
    "X = df.drop(columns=['price'], axis=1)\n",
    "y = df['price']\n",
    "\n",
    "X_train, X_test, y_train, y_test = train_test_split(\n",
    "    X, y, test_size=0.2, random_state=42)\n",
    "\n",
    "# Create a Random Forest Regressor\n",
    "regressor = RandomForestRegressor(n_estimators=200, random_state=42)\n",
    "\n",
    "# Train the regressor on the training data\n",
    "regressor.fit(X_train, y_train)\n",
    "\n",
    "# Make predictions on the testing set\n",
    "predictions = regressor.predict(X_test)\n",
    "\n",
    "# Evaluate the performance of the regressor (e.g., using mean squared error)\n",
    "mse = mean_squared_error(y_test, predictions)\n",
    "print(f\"Mean Squared Error: {mse:.5f}\")\n",
    "\n",
    "r2 = r2_score(y_test, predictions)\n",
    "print(f\"R-squared: {r2:.5f}\")\n",
    "\n",
    "mae = mean_absolute_error(y_test, predictions)\n",
    "print(f\"Mean Absolute Error: {mae:.5f}\")\n",
    "\n",
    "result_df = pd.DataFrame({'Actual': y_test, 'Predicted': predictions})\n",
    "result_df.head()"
   ]
  },
  {
   "cell_type": "code",
   "execution_count": 41,
   "id": "a90da1a5",
   "metadata": {},
   "outputs": [
    {
     "data": {
      "image/png": "[encoded data removed]",
      "text/plain": [
       "<Figure size 1000x600 with 1 Axes>"
      ]
     },
     "metadata": {},
     "output_type": "display_data"
    }
   ],
   "source": [
    "differences = abs(predictions - y_test)\n",
    "\n",
    "# Create a scatter plot of differences\n",
    "plt.figure(figsize=(10, 6))\n",
    "num_records = len(y_test)\n",
    "plt.text(max(y_test), 400, f'Number of Records: {num_records}', ha='right',\n",
    "         va='top', color='black', fontsize=10, bbox=dict(facecolor='white', alpha=0.7))\n",
    "plt.scatter(y_test, differences, color='blue', alpha=0.7)\n",
    "plt.title('Residuals Plot: Actual vs. Differences')\n",
    "plt.xlabel('Actual Values')\n",
    "plt.ylabel('Differences (Residuals)')\n",
    "\n",
    "plt.show()"
   ]
  }
 ],
 "metadata": {
  "kernelspec": {
   "display_name": "Python 3 (ipykernel)",
   "language": "python",
   "name": "python3"
  },
  "language_info": {
   "codemirror_mode": {
    "name": "ipython",
    "version": 3
   },
   "file_extension": ".py",
   "mimetype": "text/x-python",
   "name": "python",
   "nbconvert_exporter": "python",
   "pygments_lexer": "ipython3",
   "version": "3.11.5"
  }
 },
 "nbformat": 4,
 "nbformat_minor": 5
}
