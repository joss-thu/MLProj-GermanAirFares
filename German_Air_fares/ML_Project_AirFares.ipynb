{
 "cells": [
  {
   "cell_type": "markdown",
   "id": "6213315d",
   "metadata": {},
   "source": [
    "## Project- AirFares\n",
    "--- -------------------"
   ]
  },
  {
   "cell_type": "markdown",
   "id": "a47f430e",
   "metadata": {},
   "source": [
    "### Introduction\n",
    "--- -------------------"
   ]
  },
  {
   "cell_type": "markdown",
   "id": "bd59c183",
   "metadata": {},
   "source": [
    "This project studies the german domestic airfares during the period 25-10-2019 to 24-04-2020 between major airports in Germany. The aim of the project is to apply the techniques of machine learning on the dataset and understand the trends in pricing with respect to the various features such the booking date, departure & arrival cities, departure time etc. \n",
    "#### Details of dataset:\n",
    "-- -------------------\n",
    "1. Source: [https://www.kaggle.com/datasets/darjand/domestic-german-air-fares](https://www.kaggle.com/datasets/darjand/domestic-german-air-fares)\n",
    "2. Generation mode: web scraping\n",
    "3. Time period considered: 25-10-2019 to 24-04-2020 (6 months).\n",
    "4. Total entries: 63,000\n",
    "5. Features:\n",
    "    * departure_city: The city from which the flight departs.\n",
    "    * arrival_city: The city to which the flight arrives.\n",
    "    * scrape_date: The date when flight price information was retrieved.\n",
    "    * departure_date: The departure date of the flight (25-10-2019 to 24-04-2020).\n",
    "    * departure_date_distance: How far in advance (e.g., \"1 week\") the flight was booked.\n",
    "    * departure_time: The departure time of the flight.\n",
    "    * arrival_time: The arrival time of the flight.\n",
    "    * airline: The airline that operates the flight.\n",
    "    * stops: The number of layovers or stops during the flight.\n",
    "    * price (€): The price of the flight ticket in Euros."
   ]
  },
  {
   "cell_type": "markdown",
   "id": "3687c055",
   "metadata": {},
   "source": [
    "#### Imports:\n",
    "-- ----------"
   ]
  },
  {
   "cell_type": "code",
   "execution_count": 2,
   "id": "02f2a1a1",
   "metadata": {},
   "outputs": [],
   "source": [
    "#imports\n",
    "import numpy as np\n",
    "import pandas as pd\n",
    "import sklearn.model_selection as ms\n",
    "import sklearn.feature_extraction.text as text\n",
    "import sklearn.naive_bayes as nb\n",
    "import matplotlib.pyplot as plt\n",
    "from sklearn.preprocessing import LabelEncoder\n",
    "from sklearn.feature_extraction.text import TfidfVectorizer\n",
    "from sklearn.feature_extraction import text\n",
    "from sklearn.metrics import ConfusionMatrixDisplay, accuracy_score\n",
    "\n",
    "pd.set_option('display.max_colwidth', 50)\n"
   ]
  },
  {
   "cell_type": "markdown",
   "id": "83811552",
   "metadata": {},
   "source": [
    "#### Load the dataset:\n",
    "-- ------------------"
   ]
  },
  {
   "cell_type": "code",
   "execution_count": 3,
   "id": "d55c3793",
   "metadata": {},
   "outputs": [],
   "source": [
    "#Load the data set\n",
    "df = pd.read_csv('./data/German Air Fares.csv');\n"
   ]
  },
  {
   "cell_type": "markdown",
   "id": "99a79fe1",
   "metadata": {},
   "source": [
    "#### Data Understanding:\n",
    "-- ----------------------"
   ]
  },
  {
   "cell_type": "markdown",
   "id": "584f99c2",
   "metadata": {},
   "source": [
    "##### Basic statistics:\n",
    "-- ----------------------"
   ]
  },
  {
   "cell_type": "code",
   "execution_count": 4,
   "id": "4671a6c7",
   "metadata": {},
   "outputs": [
    {
     "name": "stdout",
     "output_type": "stream",
     "text": [
      "<class 'pandas.core.frame.DataFrame'>\n",
      "RangeIndex: 62626 entries, 0 to 62625\n",
      "Data columns (total 10 columns):\n",
      " #   Column                   Non-Null Count  Dtype \n",
      "---  ------                   --------------  ----- \n",
      " 0   departure_city           62626 non-null  object\n",
      " 1   arrival_city             62626 non-null  object\n",
      " 2   scrape_date              62626 non-null  object\n",
      " 3   departure_date           62626 non-null  object\n",
      " 4   departure_date_distance  62626 non-null  object\n",
      " 5   departure_time           62626 non-null  object\n",
      " 6   arrival_time             62626 non-null  object\n",
      " 7   airline                  62626 non-null  object\n",
      " 8   stops                    62626 non-null  object\n",
      " 9   price (€)                62626 non-null  object\n",
      "dtypes: object(10)\n",
      "memory usage: 4.8+ MB\n"
     ]
    }
   ],
   "source": [
    "#Basic statistics\n",
    "df.shape;                                           #--> (62626, 10)\n",
    "df.info();df.isna().sum();                          #--> (No null objects)\n"
   ]
  },
  {
   "cell_type": "markdown",
   "id": "4af76e93",
   "metadata": {},
   "source": [
    "##### Rename columns\n",
    "-- ----------------------"
   ]
  },
  {
   "cell_type": "code",
   "execution_count": 5,
   "id": "13b360b5",
   "metadata": {},
   "outputs": [],
   "source": [
    "#-----------------------------------------------------------------------------------\n",
    "df = df.rename(columns={'price (€)': 'price'});                              #--> Rename 'price (€)' to 'price'\n",
    "df.departure_city.unique();df.arrival_city.unique();\n",
    "# df['departure_city'] = df['departure_city'].astype(str).str.split().str[1]  #--> Rename departure city\n",
    "# df['arrival_city'] = df['arrival_city'].astype(str).str.split().str[1]      #--> Rename arrival city\n"
   ]
  },
  {
   "cell_type": "markdown",
   "id": "f1d3c045",
   "metadata": {},
   "source": [
    "##### Understanding departure and scrape dates\n",
    "-- ----------------------"
   ]
  },
  {
   "cell_type": "code",
   "execution_count": 6,
   "id": "be1df454",
   "metadata": {},
   "outputs": [],
   "source": [
    "#Departure dates\n",
    "dep_dates = pd.to_datetime(df['departure_date'], format='%d.%m.%Y');\n",
    "dep_dates = sorted(dep_dates.unique()); \n",
    "dep_dates = pd.Series(dep_dates);\n",
    "dep_dates.shape;                                    \n",
    "dep_dates.diff(periods=1).unique();                \n",
    "\n",
    "#Scrape dates\n",
    "scrape_dates = pd.to_datetime(df['scrape_date'], format='%d.%m.%Y');\n",
    "scrape_dates = sorted(scrape_dates.unique()); \n",
    "scrape_dates = pd.Series(scrape_dates);\n",
    "scrape_dates.shape;                                    \n",
    "scrape_dates.diff(periods=1).unique();        \n"
   ]
  },
  {
   "cell_type": "markdown",
   "id": "e899f528",
   "metadata": {},
   "source": [
    "###### Conclusion: \n",
    "-- --------------\n",
    "* **Departure dates:**\n",
    "    * 42 unique departure dates\n",
    "    * departure date frequencies are not unique -> ['1 days', '11 days', '5 days', '44 days', '85 days']\n",
    "* **Scrape dates:**\n",
    "    * scrape date frequencies are only from 18-24.10.2019\n",
    "    * scrape date frequencies are unique -> 1 day"
   ]
  },
  {
   "cell_type": "markdown",
   "metadata": {},
   "source": []
  },
  {
   "cell_type": "markdown",
   "id": "c2cbe307",
   "metadata": {},
   "source": [
    "#####  Understanding departure-date distance\n",
    "-- ----------------------------------------"
   ]
  },
  {
   "cell_type": "code",
   "execution_count": 7,
   "id": "839dd45e",
   "metadata": {},
   "outputs": [],
   "source": [
    "df.departure_date_distance.value_counts();           \n",
    "#--> \n",
    "# 6 months    12672\n",
    "# 6 weeks     11222\n",
    "# 1 month     10092\n",
    "# 1 week       9949\n",
    "# 3 month      9748\n",
    "# 2 weeks      7850\n",
    "# 2 week       1093\n"
   ]
  },
  {
   "cell_type": "markdown",
   "id": "d144796c",
   "metadata": {},
   "source": [
    "###### Conclusion: \n",
    "-- --------------\n",
    "* **Departure-date distance:**\n",
    "    * scrape_date can probably be omitted, redundant feature?"
   ]
  },
  {
   "cell_type": "markdown",
   "id": "235e770d",
   "metadata": {},
   "source": [
    "##### Understanding departure and arrival times\n",
    "-- ---------------------------------------------"
   ]
  },
  {
   "cell_type": "code",
   "execution_count": 8,
   "id": "849e0825",
   "metadata": {},
   "outputs": [],
   "source": [
    "#To-Do:\n",
    "#Time formats are not unique:\n",
    "#--> am/pm and 24 hr formats mixed\n",
    "#--> no consistent display schema\n",
    "#--> probably convert into categorical data: early-morning, morning, day, evening, night depending on time values\n"
   ]
  },
  {
   "cell_type": "markdown",
   "id": "64afcf85",
   "metadata": {},
   "source": [
    "##### Understanding Airlines\n",
    "-- ---------------------------------------------"
   ]
  },
  {
   "cell_type": "code",
   "execution_count": 9,
   "id": "7f64ec65",
   "metadata": {},
   "outputs": [],
   "source": [
    "df.airline.value_counts();\n",
    "#To-Do:\n",
    "#--> Rename easyjet to Easyjet\n"
   ]
  },
  {
   "cell_type": "markdown",
   "id": "1ad9169b",
   "metadata": {},
   "source": [
    "###### Conclusion: \n",
    "-- --------------\n",
    "* **Airlines:**\n",
    "    * There are 69 'Mehrere Fluglinien', Remove these entries?"
   ]
  },
  {
   "cell_type": "markdown",
   "id": "85d7aed4",
   "metadata": {},
   "source": [
    "##### Understanding stops\n",
    "---------------------------------------------"
   ]
  },
  {
   "cell_type": "code",
   "execution_count": 10,
   "id": "3fb8107c",
   "metadata": {},
   "outputs": [
    {
     "data": {
      "text/plain": [
       "stops\n",
       "direct        29278\n",
       "(1 Stopp)     24289\n",
       "(1 stop)       4987\n",
       "(2 Stopps)     4072\n",
       "Name: count, dtype: int64"
      ]
     },
     "execution_count": 10,
     "metadata": {},
     "output_type": "execute_result"
    }
   ],
   "source": [
    "df.stops.value_counts();\n",
    "#To-Do:\n",
    "#--> Rename stops properly\n"
   ]
  },
  {
   "cell_type": "markdown",
   "metadata": {},
   "source": [
    "##### Understanding prices\n",
    "--------------------------\n"
   ]
  },
  {
   "cell_type": "code",
   "execution_count": 36,
   "id": "413ee7a3",
   "metadata": {},
   "outputs": [],
   "source": [
    "df.price.value_counts();\n",
    "#To-Do:\n",
    "#--> format into int properly\n"
   ]
  }
 ],
 "metadata": {
  "kernelspec": {
   "display_name": "Python 3 (ipykernel)",
   "language": "python",
   "name": "python3"
  },
  "language_info": {
   "codemirror_mode": {
    "name": "ipython",
    "version": 3
   },
   "file_extension": ".py",
   "mimetype": "text/x-python",
   "name": "python",
   "nbconvert_exporter": "python",
   "pygments_lexer": "ipython3",
   "version": "3.11.5"
  }
 },
 "nbformat": 4,
 "nbformat_minor": 5
}
